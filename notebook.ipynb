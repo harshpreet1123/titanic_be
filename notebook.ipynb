{
 "cells": [
  {
   "cell_type": "code",
   "execution_count": null,
   "metadata": {},
   "outputs": [],
   "source": [
    "pip install scikit-learn==1.5.1\n",
    "import pandas as pd\n",
    "import numpy as np\n",
    "import matplotlib.pyplot as plt\n",
    "import seaborn as sns\n",
    "%matplotlib inline"
   ]
  },
  {
   "cell_type": "code",
   "execution_count": null,
   "metadata": {},
   "outputs": [],
   "source": [
    "org_df = pd.read_csv(\"https://raw.githubusercontent.com/XH4V0C/ml-datasets/main/titanic.csv\")\n",
    "\n",
    "df = org_df"
   ]
  },
  {
   "cell_type": "code",
   "execution_count": null,
   "metadata": {},
   "outputs": [],
   "source": [
    "df.head()\n",
    "df.drop(['Ticket','Cabin','Name','PassengerId'],axis=1,inplace=True)\n",
    "df['Embarked'].fillna('S',inplace=True)\n",
    "avg_age = int(df['Age'].sum()/(891-177))\n",
    "print(\"Avg age=\",avg_age)\n",
    "df['Age'][df['Age'].isnull()] = avg_age\n",
    "Gender = pd.get_dummies(df['Sex'],drop_first=False)\n",
    "Embark = pd.get_dummies(df['Embarked'],drop_first=False)\n",
    "data = pd.get_dummies(df)"
   ]
  },
  {
   "cell_type": "code",
   "execution_count": null,
   "metadata": {},
   "outputs": [],
   "source": [
    "ndf = pd.concat([df,Gender,Embark],axis=1)\n",
    "ndf.drop(['Sex','Embarked'],axis=1,inplace=True)"
   ]
  },
  {
   "cell_type": "code",
   "execution_count": null,
   "metadata": {},
   "outputs": [],
   "source": [
    "from sklearn.model_selection import train_test_split\n",
    "y = ndf['Survived']\n",
    "X = ndf.drop('Survived',axis=1)\n",
    "X_train,X_test,y_train,y_test=train_test_split(X,y,random_state=5,test_size=0.25)"
   ]
  },
  {
   "cell_type": "code",
   "execution_count": null,
   "metadata": {},
   "outputs": [],
   "source": [
    "from sklearn.linear_model import LogisticRegression\n",
    "log_reg = LogisticRegression(max_iter=500)\n",
    "log_reg.fit(X_train,y_train)\n",
    "y_pred_np = log_reg.predict(X_test)\n",
    "y_pred = pd.DataFrame(y_pred_np)"
   ]
  },
  {
   "cell_type": "code",
   "execution_count": null,
   "metadata": {},
   "outputs": [],
   "source": [
    "from sklearn.metrics import accuracy_score\n",
    "print(\"Accuracy Score:\",round(accuracy_score(y_test,y_pred)*100,3),\"%\")"
   ]
  },
  {
   "cell_type": "code",
   "execution_count": null,
   "metadata": {},
   "outputs": [],
   "source": [
    "import joblib\n",
    "\n",
    "# Save the model\n",
    "joblib.dump(log_reg, 'titanic_model.pkl')"
   ]
  }
 ],
 "metadata": {
  "language_info": {
   "name": "python"
  }
 },
 "nbformat": 4,
 "nbformat_minor": 2
}
